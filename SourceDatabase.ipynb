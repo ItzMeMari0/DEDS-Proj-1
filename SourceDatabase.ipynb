{
 "cells": [
  {
   "cell_type": "markdown",
   "metadata": {},
   "source": [
    "Imports and Connection to SSMS database"
   ]
  },
  {
   "cell_type": "code",
   "execution_count": null,
   "metadata": {},
   "outputs": [],
   "source": [
    "import warnings\n",
    "warnings.simplefilter('ignore')\n",
    "\n",
    "import pyodbc\n",
    "import pandas as pd\n",
    "import sqlite3\n",
    "\n",
    "server = 'LAPTOP-8R8HAJSC\\\\SQLEXPRESS01'\n",
    "db = 'United Outdoors Source'\n",
    "\n",
    "connectionString = f'DRIVER={{SQL Server}};SERVER={server};DATABASE={db};Trusted_Connection=yes;'\n",
    "connection = pyodbc.connect(connectionString)"
   ]
  },
  {
   "cell_type": "markdown",
   "metadata": {},
   "source": [
    "Code to delete all data from the tables"
   ]
  },
  {
   "cell_type": "code",
   "execution_count": 2,
   "metadata": {},
   "outputs": [
    {
     "name": "stdout",
     "output_type": "stream",
     "text": [
      "Deleting from table: Purchasing_Vendor\n",
      "Deleting from table: Purchasing_PurchaseOrderHeader\n",
      "Deleting from table: Purchasing_PurchaseOrderDetail\n",
      "Deleting from table: Territory\n",
      "Deleting from table: EmployeeTerritories\n",
      "Deleting from table: Department\n",
      "Deleting from table: Bonus\n",
      "Deleting from table: State\n",
      "Deleting from table: Employee\n",
      "Deleting from table: Shippers\n",
      "Deleting from table: Customer\n",
      "Deleting from table: Orders\n",
      "Deleting from table: Order_Details\n",
      "Deleting from table: Sales_Order\n",
      "Deleting from table: Sales_Order_Item\n",
      "Deleting from table: Categories\n",
      "Deleting from table: Production_ProductCategory\n",
      "Deleting from table: Products\n",
      "Deleting from table: Product\n",
      "Deleting from table: Production_BillOfMaterials\n",
      "Deleting from table: Sales_SalesTerritory\n",
      "Deleting from table: Sales_Customer\n",
      "Deleting from table: Sales_Store\n",
      "Deleting from table: Sales_SalesOrderHeader\n",
      "Deleting from table: Sales_SalesOrderDetail\n",
      "Deleting from table: HumanResources_Department\n",
      "Deleting from table: HumanResources_Employee\n",
      "Deleting from table: Person_Person\n",
      "Deleting from table: Person_Address\n"
     ]
    }
   ],
   "source": [
    "cursor = connection.cursor()\n",
    "\n",
    "# Get the list of tables in the database\n",
    "cursor.execute(\"SELECT name FROM sys.tables\")\n",
    "tables = cursor.fetchall()\n",
    "\n",
    "# Disable foreign key constraints\n",
    "cursor.execute(\"EXEC sp_MSforeachtable \\\"ALTER TABLE ? NOCHECK CONSTRAINT ALL\\\"\")\n",
    "connection.commit()\n",
    "\n",
    "# Loop through the tables and delete from each one\n",
    "for table in tables:\n",
    "    table_name = table[0]  # Get table name from tuple\n",
    "    print(f\"Deleting from table: {table_name}\")\n",
    "    cursor.execute(f\"DELETE FROM {table_name}\")\n",
    "    connection.commit()\n",
    "\n",
    "# Enable foreign key constraints again\n",
    "cursor.execute(\"EXEC sp_MSforeachtable \\\"ALTER TABLE ? WITH CHECK CHECK CONSTRAINT ALL\\\"\")\n",
    "connection.commit()"
   ]
  },
  {
   "cell_type": "markdown",
   "metadata": {},
   "source": [
    "Creating Dataframes from reading data from files"
   ]
  },
  {
   "cell_type": "code",
   "execution_count": null,
   "metadata": {},
   "outputs": [],
   "source": [
    "\n",
    "\n",
    "inventory_levels_train_df = pd.read_csv('data\\\\raw\\inventory_levels_train.csv')\n",
    "product_forecast_train_df = pd.read_csv('data\\\\raw\\product_forecast_train.csv')\n",
    "\n",
    "go_crm_train_connection = sqlite3.connect('data\\\\raw\\go_crm_train.sqlite')\n",
    "sqlite_cursor = go_crm_train_connection.cursor()\n",
    "\n",
    "age_group_df = pd.read_sql_query('SELECT * FROM age_group', go_crm_train_connection)\n",
    "country_df_crm = pd.read_sql_query('SELECT * FROM country', go_crm_train_connection)\n",
    "retailer_df = pd.read_sql_query('SELECT * FROM retailer', go_crm_train_connection)\n",
    "retailer_contact_df = pd.read_sql_query('SELECT * FROM retailer_contact', go_crm_train_connection)\n",
    "retailer_headquarters_df = pd.read_sql_query('SELECT * FROM retailer_headquarters', go_crm_train_connection)\n",
    "retailer_segment_df = pd.read_sql_query('SELECT * FROM retailer_segment', go_crm_train_connection)\n",
    "retailer_site_df = pd.read_sql_query('SELECT * FROM retailer_site', go_crm_train_connection)\n",
    "retailer_type_df = pd.read_sql_query('SELECT * FROM retailer_type', go_crm_train_connection)\n",
    "sales_demographic_df = pd.read_sql_query('SELECT * FROM sales_demographic', go_crm_train_connection)\n",
    "sales_territory_df = pd.read_sql_query('SELECT * FROM sales_territory', go_crm_train_connection)\n",
    "\n",
    "go_sales_train_connection = sqlite3.connect('data\\\\raw\\go_sales_train.sqlite')\n",
    "sqlite_cursor = go_sales_train_connection.cursor()\n",
    "\n",
    "country_df_sales = pd.read_sql_query('SELECT * FROM country', go_sales_train_connection)\n",
    "order_details_df = pd.read_sql_query('SELECT * FROM order_details', go_sales_train_connection)\n",
    "order_header_df = pd.read_sql_query('SELECT * FROM order_header', go_sales_train_connection)\n",
    "order_method_df = pd.read_sql_query('SELECT * FROM order_method', go_sales_train_connection)\n",
    "product_df = pd.read_sql_query('SELECT * FROM product', go_sales_train_connection)\n",
    "product_line_df = pd.read_sql_query('SELECT * FROM product_line', go_sales_train_connection)\n",
    "product_type_df = pd.read_sql_query('SELECT * FROM product_type', go_sales_train_connection)\n",
    "retailer_site_df = pd.read_sql_query('SELECT * FROM retailer_site', go_sales_train_connection)\n",
    "return_reason_df = pd.read_sql_query('SELECT * FROM return_reason', go_sales_train_connection)\n",
    "returned_item_df = pd.read_sql_query('SELECT * FROM returned_item', go_sales_train_connection)\n",
    "sales_branch_df = pd.read_sql_query('SELECT * FROM sales_branch', go_sales_train_connection)\n",
    "sales_staff_df = pd.read_sql_query('SELECT * FROM sales_staff', go_sales_train_connection)\n",
    "\n",
    "go_staff_train_connection = sqlite3.connect('data\\\\raw\\go_staff_train.sqlite')\n",
    "sqlite_cursor = go_staff_train_connection.cursor()\n",
    "\n",
    "course_df = pd.read_sql_query('SELECT * FROM course', go_staff_train_connection)\n",
    "sales_branch_df = pd.read_sql_query('SELECT * FROM sales_branch', go_staff_train_connection)\n",
    "sales_staff_df = pd.read_sql_query('SELECT * FROM sales_staff', go_staff_train_connection)\n",
    "satisfaction_df = pd.read_sql_query('SELECT * FROM satisfaction', go_staff_train_connection)\n",
    "satisfaction_type_df = pd.read_sql_query('SELECT * FROM satisfaction_type', go_staff_train_connection)\n",
    "training_df = pd.read_sql_query('SELECT * FROM training', go_staff_train_connection)"
   ]
  }
 ],
 "metadata": {
  "kernelspec": {
   "display_name": "Python 3",
   "language": "python",
   "name": "python3"
  },
  "language_info": {
   "codemirror_mode": {
    "name": "ipython",
    "version": 3
   },
   "file_extension": ".py",
   "mimetype": "text/x-python",
   "name": "python",
   "nbconvert_exporter": "python",
   "pygments_lexer": "ipython3",
   "version": "3.13.2"
  }
 },
 "nbformat": 4,
 "nbformat_minor": 2
}
