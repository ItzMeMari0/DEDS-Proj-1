{
 "cells": [
  {
   "cell_type": "code",
   "execution_count": null,
   "metadata": {},
   "outputs": [],
   "source": [
    "import warnings\n",
    "warnings.simplefilter('ignore')\n",
    "\n",
    "import pyodbc\n",
    "import pandas as pd\n",
    "\n",
    "server = 'LAPTOP-8R8HAJSC\\\\SQLEXPRESS01'\n",
    "db = 'Great Outdoors Source'\n",
    "\n",
    "connectionString = f'DRIVER={{SQL Server}};SERVER={server};DATABASE={db};Trusted_Connection=yes;'\n",
    "connection = pyodbc.connect(connectionString)"
   ]
  }
 ],
 "metadata": {
  "kernelspec": {
   "display_name": "Python 3",
   "language": "python",
   "name": "python3"
  },
  "language_info": {
   "name": "python",
   "version": "3.13.2"
  }
 },
 "nbformat": 4,
 "nbformat_minor": 2
}
