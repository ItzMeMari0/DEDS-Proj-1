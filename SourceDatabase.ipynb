{
 "cells": [
  {
   "cell_type": "markdown",
   "metadata": {},
   "source": [
    "Imports and Connection to SSMS database"
   ]
  },
  {
   "cell_type": "code",
   "execution_count": 1,
   "metadata": {},
   "outputs": [],
   "source": [
    "import warnings\n",
    "warnings.simplefilter('ignore')\n",
    "\n",
    "import pyodbc\n",
    "import pandas as pd\n",
    "import sqlite3\n",
    "\n",
    "server = 'LAPTOP-8R8HAJSC\\\\SQLEXPRESS01'\n",
    "source_db = 'United Outdoors Source'\n",
    "northwind_db = 'NorthWind'\n",
    "\n",
    "source_connectionString = f'DRIVER={{SQL Server}};SERVER={server};DATABASE={source_db};Trusted_Connection=yes;'\n",
    "northwind_connectionString = f'DRIVER={{SQL Server}};SERVER={server};DATABASE={northwind_db};Trusted_Connection=yes;'\n",
    "\n",
    "source_connection = pyodbc.connect(source_connectionString)\n",
    "northwind_connection = pyodbc.connect(northwind_connectionString)"
   ]
  },
  {
   "cell_type": "markdown",
   "metadata": {},
   "source": [
    "Code to delete all data from the tables"
   ]
  },
  {
   "cell_type": "code",
   "execution_count": 2,
   "metadata": {},
   "outputs": [
    {
     "name": "stdout",
     "output_type": "stream",
     "text": [
      "Deleting from table: Purchasing_Vendor\n",
      "Deleting from table: Purchasing_PurchaseOrderHeader\n",
      "Deleting from table: Purchasing_PurchaseOrderDetail\n",
      "Deleting from table: Territory\n",
      "Deleting from table: EmployeeTerritories\n",
      "Deleting from table: Department\n",
      "Deleting from table: Bonus\n",
      "Deleting from table: State\n",
      "Deleting from table: Employee\n",
      "Deleting from table: Shippers\n",
      "Deleting from table: Customer\n",
      "Deleting from table: Orders\n",
      "Deleting from table: Order_Details\n",
      "Deleting from table: Sales_Order\n",
      "Deleting from table: Sales_Order_Item\n",
      "Deleting from table: Categories\n",
      "Deleting from table: Production_ProductCategory\n",
      "Deleting from table: Products\n",
      "Deleting from table: Product\n",
      "Deleting from table: Production_BillOfMaterials\n",
      "Deleting from table: Sales_SalesTerritory\n",
      "Deleting from table: Sales_Customer\n",
      "Deleting from table: Sales_Store\n",
      "Deleting from table: Sales_SalesOrderHeader\n",
      "Deleting from table: Sales_SalesOrderDetail\n",
      "Deleting from table: HumanResources_Department\n",
      "Deleting from table: HumanResources_Employee\n",
      "Deleting from table: Person_Person\n",
      "Deleting from table: Person_Address\n"
     ]
    }
   ],
   "source": [
    "cursor = source_connection.cursor()\n",
    "\n",
    "# Get the list of tables in the database\n",
    "cursor.execute(\"SELECT name FROM sys.tables\")\n",
    "tables = cursor.fetchall()\n",
    "\n",
    "# Disable foreign key constraints\n",
    "cursor.execute(\"EXEC sp_MSforeachtable \\\"ALTER TABLE ? NOCHECK CONSTRAINT ALL\\\"\")\n",
    "source_connection.commit()\n",
    "\n",
    "# Loop through the tables and delete from each one\n",
    "for table in tables:\n",
    "    table_name = table[0]  # Get table name from tuple\n",
    "    print(f\"Deleting from table: {table_name}\")\n",
    "    cursor.execute(f\"DELETE FROM {table_name}\")\n",
    "    source_connection.commit()\n",
    "\n",
    "# Enable foreign key constraints again\n",
    "cursor.execute(\"EXEC sp_MSforeachtable \\\"ALTER TABLE ? WITH CHECK CHECK CONSTRAINT ALL\\\"\")\n",
    "source_connection.commit()"
   ]
  },
  {
   "cell_type": "markdown",
   "metadata": {},
   "source": [
    "Creating Dataframes from reading data from files"
   ]
  },
  {
   "cell_type": "code",
   "execution_count": 15,
   "metadata": {},
   "outputs": [],
   "source": [
    "#Dataframes from aenc.sqlite\n",
    "aenc_connection = sqlite3.connect('Data\\\\aenc.sqlite')\n",
    "sqlite_cursor = aenc_connection.cursor()\n",
    "\n",
    "bonus_df = pd.read_sql_query('SELECT * FROM Bonus', aenc_connection)\n",
    "customer_df = pd.read_sql_query('SELECT * FROM Customer', aenc_connection)\n",
    "department_df = pd.read_sql_query('SELECT * FROM Department', aenc_connection)\n",
    "employee_df = pd.read_sql_query('SELECT * FROM Employee', aenc_connection)\n",
    "product_df = pd.read_sql_query('SELECT * FROM Product', aenc_connection)\n",
    "sales_order_df = pd.read_sql_query('SELECT * FROM Sales_Order', aenc_connection)\n",
    "sales_order_item_df = pd.read_sql_query('SELECT * FROM Sales_Order_Item', aenc_connection)\n",
    "state_df = pd.read_sql_query('SELECT * FROM State', aenc_connection)\n",
    "\n",
    "#Dataframes from NorthWind.txt\n",
    "sqlite_cursor = northwind_connection.cursor()\n",
    "\n",
    "categories_df = pd.read_sql_query('SELECT * FROM Categories', northwind_connection)\n",
    "customer_customer_demo_df = pd.read_sql_query('SELECT * FROM CustomerCustomerDemo', northwind_connection)\n",
    "customer_demographics_df = pd.read_sql_query('SELECT * FROM CustomerDemographics', northwind_connection)\n",
    "customers_df = pd.read_sql_query('SELECT * FROM Customers', northwind_connection)\n",
    "employees_df = pd.read_sql_query('SELECT * FROM Employees', northwind_connection)\n",
    "employee_territories_df = pd.read_sql_query('SELECT * FROM EmployeeTerritories', northwind_connection)\n",
    "order_details_df = pd.read_sql_query('SELECT * FROM \"Order Details\"', northwind_connection)\n",
    "orders_df = pd.read_sql_query('SELECT * FROM Orders', northwind_connection)\n",
    "products_df = pd.read_sql_query('SELECT * FROM Products', northwind_connection)\n",
    "region_df = pd.read_sql_query('SELECT * FROM Region', northwind_connection)\n",
    "shippers_df = pd.read_sql_query('SELECT * FROM Shippers', northwind_connection)\n",
    "suppliers_df = pd.read_sql_query('SELECT * FROM Suppliers', northwind_connection)\n",
    "territories_df = pd.read_sql_query('SELECT * FROM Territories', northwind_connection)"
   ]
  },
  {
   "cell_type": "code",
   "execution_count": null,
   "metadata": {},
   "outputs": [],
   "source": []
  }
 ],
 "metadata": {
  "kernelspec": {
   "display_name": "Python 3",
   "language": "python",
   "name": "python3"
  },
  "language_info": {
   "codemirror_mode": {
    "name": "ipython",
    "version": 3
   },
   "file_extension": ".py",
   "mimetype": "text/x-python",
   "name": "python",
   "nbconvert_exporter": "python",
   "pygments_lexer": "ipython3",
   "version": "3.13.2"
  }
 },
 "nbformat": 4,
 "nbformat_minor": 2
}
